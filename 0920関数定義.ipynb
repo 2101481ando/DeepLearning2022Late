{
  "nbformat": 4,
  "nbformat_minor": 0,
  "metadata": {
    "colab": {
      "provenance": [],
      "authorship_tag": "ABX9TyODPXPw/TJ8hzdNlB5IAVP/",
      "include_colab_link": true
    },
    "kernelspec": {
      "name": "python3",
      "display_name": "Python 3"
    },
    "language_info": {
      "name": "python"
    }
  },
  "cells": [
    {
      "cell_type": "markdown",
      "metadata": {
        "id": "view-in-github",
        "colab_type": "text"
      },
      "source": [
        "<a href=\"https://colab.research.google.com/github/2101481ando/DeepLearning2022Late/blob/main/0920%E9%96%A2%E6%95%B0%E5%AE%9A%E7%BE%A9.ipynb\" target=\"_parent\"><img src=\"https://colab.research.google.com/assets/colab-badge.svg\" alt=\"Open In Colab\"/></a>"
      ]
    },
    {
      "cell_type": "markdown",
      "source": [],
      "metadata": {
        "id": "bFxzIEtabRVq"
      }
    },
    {
      "cell_type": "markdown",
      "source": [
        "# pyton3で関数を定義する"
      ],
      "metadata": {
        "id": "r2wM2xdFbT1T"
      }
    },
    {
      "cell_type": "markdown",
      "source": [
        "関数定義"
      ],
      "metadata": {
        "id": "klHcDe8NbmFh"
      }
    },
    {
      "cell_type": "code",
      "execution_count": 1,
      "metadata": {
        "colab": {
          "base_uri": "https://localhost:8080/"
        },
        "id": "4hPaONVXbIy4",
        "outputId": "21da2c53-f8a8-4b9e-9333-dee7f402966e"
      },
      "outputs": [
        {
          "output_type": "stream",
          "name": "stdout",
          "text": [
            "test message!\n"
          ]
        }
      ],
      "source": [
        "# helloという関数を定義する\n",
        "# \"hello, kansuu!\"と画面表示する関数\n",
        "def hello():\n",
        "  print('hello, kansuu!') # インデントされている\n",
        "  # インデントされている命令文などは関数の範囲の中\n",
        "print('test message!') # インデントされていない\n",
        "# インデントされていない命令文などは関数の範囲の外　\n"
      ]
    },
    {
      "cell_type": "code",
      "source": [
        "# 作成した関数hello() をコールする\n",
        "hello()\n",
        "hello()"
      ],
      "metadata": {
        "colab": {
          "base_uri": "https://localhost:8080/"
        },
        "id": "3D0JKokXbn8X",
        "outputId": "0f7825e3-f676-496c-90b5-6adde266ba62"
      },
      "execution_count": 2,
      "outputs": [
        {
          "output_type": "stream",
          "name": "stdout",
          "text": [
            "hello, kansuu!\n",
            "hello, kansuu!\n"
          ]
        }
      ]
    },
    {
      "cell_type": "markdown",
      "source": [
        "## 引数付きの関数を定義する"
      ],
      "metadata": {
        "id": "D-TD_wweetPB"
      }
    },
    {
      "cell_type": "code",
      "source": [
        "## 引数付きの関数 hello()　を定義\n",
        "def hello(who):\n",
        "  print('hello,' + who + '!')\n",
        "# ここが関数の終わり\n",
        "hello('python!')\n"
      ],
      "metadata": {
        "colab": {
          "base_uri": "https://localhost:8080/"
        },
        "id": "G1IqBqVgeQjI",
        "outputId": "499bd6ee-0bcf-4303-a3c1-4ddfe9f99c22"
      },
      "execution_count": 3,
      "outputs": [
        {
          "output_type": "stream",
          "name": "stdout",
          "text": [
            "hello,python!!\n"
          ]
        }
      ]
    },
    {
      "cell_type": "markdown",
      "source": [
        "### 複数の引数つきの関数を定義"
      ],
      "metadata": {
        "id": "ieUEE33PgKkB"
      }
    },
    {
      "cell_type": "code",
      "source": [
        "def hello(who, aisatsu):\n",
        "  print('hello,' + who + 'さん' +aisatsu)\n",
        "# 関数終わり\n",
        "\n",
        "hello('田中', 'おはよう')\n",
        "hello('鈴木', 'こんにちは')"
      ],
      "metadata": {
        "colab": {
          "base_uri": "https://localhost:8080/"
        },
        "id": "6kTRPUkgexkN",
        "outputId": "edd7866e-97cd-46f8-8f05-cad33718f9cd"
      },
      "execution_count": 4,
      "outputs": [
        {
          "output_type": "stream",
          "name": "stdout",
          "text": [
            "hello,田中さんおはよう\n",
            "hello,鈴木さんこんにちは\n"
          ]
        }
      ]
    },
    {
      "cell_type": "markdown",
      "source": [
        "## 関数の戻り値を定義する\n",
        "### 戻り値1つの関数を定義"
      ],
      "metadata": {
        "id": "_691eb1khz-m"
      }
    },
    {
      "cell_type": "code",
      "source": [
        "def helloBack(who, aisatsu):\n",
        "  return who + 'さん、' + aisatsu\n",
        "# 関数終わり\n",
        "\n",
        "#戻り値を変数xに代入して表示\n",
        "x = helloBack('佐藤','こんばんは')\n",
        "print(x)"
      ],
      "metadata": {
        "colab": {
          "base_uri": "https://localhost:8080/"
        },
        "id": "Abtf0Wkih-e2",
        "outputId": "ad25d41e-54dc-468c-d1f0-93abbbeff1f6"
      },
      "execution_count": 9,
      "outputs": [
        {
          "output_type": "stream",
          "name": "stdout",
          "text": [
            "佐藤さん、こんばんは\n"
          ]
        }
      ]
    },
    {
      "cell_type": "markdown",
      "source": [
        "## 複数の戻り値を返す関数を定義"
      ],
      "metadata": {
        "id": "AnwsnlMMjYzH"
      }
    },
    {
      "cell_type": "code",
      "source": [
        "def keisan(x,y):\n",
        "  # x,y, x+y この3つの値を返す\n",
        "  return x,y, x+y\n",
        "# 関数終わり\n",
        "\n",
        "# 関数keisanを実行して戻り値を受け取る\n",
        "e, f, g, = keisan(3,6) # 戻り値が3,6,9になる\n",
        "print(e,f,g)\n",
        "\n",
        "\n"
      ],
      "metadata": {
        "colab": {
          "base_uri": "https://localhost:8080/"
        },
        "id": "l7vO9sRzihdT",
        "outputId": "d8e83806-2837-477a-9152-63acf74735d2"
      },
      "execution_count": 10,
      "outputs": [
        {
          "output_type": "stream",
          "name": "stdout",
          "text": [
            "3 6 9\n"
          ]
        }
      ]
    },
    {
      "cell_type": "markdown",
      "source": [
        "# その他の文法\n",
        "## 分岐(if文)"
      ],
      "metadata": {
        "id": "i22ionFqlZHW"
      }
    },
    {
      "cell_type": "code",
      "source": [
        "# if文の範囲もインデントで表す\n",
        "def over(num, thres):\n",
        "  if num > thres: #numが閾値より大きいとき \n",
        "    print(str(num) + 'は' + str(thres) + 'より大きい' )\n",
        "  else:\n",
        "    print(str(num) + 'は' + str(thres) + '以下です')\n",
        "  #分岐の終わり\n",
        "#関数の終わり      \n",
        "\n",
        "over(333,100)\n",
        "over(-1,10)"
      ],
      "metadata": {
        "colab": {
          "base_uri": "https://localhost:8080/"
        },
        "id": "jn_knbckjf5_",
        "outputId": "ff7578fd-1170-4558-8b98-b32a0820295e"
      },
      "execution_count": 11,
      "outputs": [
        {
          "output_type": "stream",
          "name": "stdout",
          "text": [
            "333は100より大きい\n",
            "-1は10以下です\n"
          ]
        }
      ]
    },
    {
      "cell_type": "code",
      "source": [
        "# リストに第2引数の値が含まれるか判定\n",
        "def include(list,keyword):\n",
        "  uniq = set(list) # リストを集合に変換\n",
        "  if keyword in uniq:\n",
        "    print(keyword + 'が含まれる')\n",
        "  else:\n",
        "    print(keyword + 'が含まれない')\n",
        "  # 分岐の終わり\n",
        "# 関数の終わり\n",
        "\n",
        "# リストを引き渡して作成した関数を実行する\n",
        "list_1 = ['アップル', 'ペン','ペン','パイナップル'] #第一引数に使うリスト\n",
        "include(list_1, 'パイナップル')\n",
        "include(list_1, 'バナナ')\n"
      ],
      "metadata": {
        "colab": {
          "base_uri": "https://localhost:8080/"
        },
        "id": "uYuOE0hdn0LI",
        "outputId": "50b60477-c78a-4758-fd91-a1ef18342243"
      },
      "execution_count": 13,
      "outputs": [
        {
          "output_type": "stream",
          "name": "stdout",
          "text": [
            "パイナップルが含まれる\n",
            "バナナが含まれない\n"
          ]
        }
      ]
    },
    {
      "cell_type": "code",
      "source": [],
      "metadata": {
        "id": "xfe3OgYOvkY_"
      },
      "execution_count": null,
      "outputs": []
    },
    {
      "cell_type": "markdown",
      "source": [
        "## 繰り返し分（while分）"
      ],
      "metadata": {
        "id": "6kvD0N-2wb94"
      }
    },
    {
      "cell_type": "code",
      "source": [
        "# while文は条件がtrueの間繰り返す\n",
        "\n",
        "def count(max):\n",
        "  num = 0\n",
        "  while num < max:   # numがmax未満の間、くりかえす\n",
        "    print(num)\n",
        "    num += 1\n",
        "  #while文の繰り返し\n",
        "# 関数終わり\n",
        "\n",
        "count(5) # 作成した関数に引数を引き渡して実行\n",
        "  \n"
      ],
      "metadata": {
        "colab": {
          "base_uri": "https://localhost:8080/"
        },
        "id": "PWpbKx7Rwh-o",
        "outputId": "8809382e-a45d-4aed-affe-5639d0ec5cab"
      },
      "execution_count": 15,
      "outputs": [
        {
          "output_type": "stream",
          "name": "stdout",
          "text": [
            "0\n",
            "1\n",
            "2\n",
            "3\n",
            "4\n"
          ]
        }
      ]
    },
    {
      "cell_type": "code",
      "source": [],
      "metadata": {
        "id": "pooMkfGOx0G6"
      },
      "execution_count": null,
      "outputs": []
    },
    {
      "cell_type": "markdown",
      "source": [
        "## 繰り返し分（for文）\n",
        "\n",
        "for 変数α in range(変数β):"
      ],
      "metadata": {
        "id": "_YTWFHVGyjSd"
      }
    },
    {
      "cell_type": "code",
      "source": [
        "# 集合（コレクション）の中から取り出して繰り返し\n",
        "def every(array):\n",
        "  for x in array: # arrayの中から一つずつデータを取り出しxに代入\n",
        "    print(x)\n",
        "  # for文終わり\n",
        "#　関数終わり \n",
        "\n",
        "list = [1,2,3]\n",
        "every(list)\n",
        "tuple = (4,5,6)\n",
        "every(tuple)\n",
        "# 辞書型もコレクション\n",
        "dict = {'a':7,'b':8,'c':9}\n",
        "every(dict) #キーワードの一覧表示\n",
        "values = dict.values()#値のリストを取得\n",
        "every(values)#値の一覧を表示\n",
        "#文字列も文字配列としてコレクション扱いができる\n",
        "every('dog') #dog1として表示\n",
        "\n"
      ],
      "metadata": {
        "colab": {
          "base_uri": "https://localhost:8080/"
        },
        "id": "OILyx9dRyoAy",
        "outputId": "535e1adb-2a90-4d5c-f17e-5104b25846cd"
      },
      "execution_count": 19,
      "outputs": [
        {
          "output_type": "stream",
          "name": "stdout",
          "text": [
            "1\n",
            "2\n",
            "3\n",
            "4\n",
            "5\n",
            "6\n",
            "a\n",
            "b\n",
            "c\n",
            "7\n",
            "8\n",
            "9\n",
            "d\n",
            "o\n",
            "g\n"
          ]
        }
      ]
    },
    {
      "cell_type": "code",
      "source": [
        "# カウンター変数で繰り返す\n",
        "# for n in range(数値) 0～数値未満繰り返す\n",
        "\n",
        "def count(num):\n",
        "  for i in range(num):\n",
        "    print(i)\n",
        "  #繰り返しの終わり\n",
        "#関数の終わり\n",
        "\n",
        "count(3) # 3 = 0,1,2で繰り返す\n",
        "\n"
      ],
      "metadata": {
        "colab": {
          "base_uri": "https://localhost:8080/"
        },
        "id": "1-S5E7IS0Zk1",
        "outputId": "95a218d3-7ab1-4ab1-933d-510338e7966e"
      },
      "execution_count": 20,
      "outputs": [
        {
          "output_type": "stream",
          "name": "stdout",
          "text": [
            "0\n",
            "1\n",
            "2\n"
          ]
        }
      ]
    },
    {
      "cell_type": "code",
      "source": [],
      "metadata": {
        "id": "AcrM1f1u38qv"
      },
      "execution_count": null,
      "outputs": []
    },
    {
      "cell_type": "markdown",
      "source": [
        "## 繰り返しを中断したいときは、break命令"
      ],
      "metadata": {
        "id": "zgt6SMGT4jJX"
      }
    },
    {
      "cell_type": "code",
      "source": [
        "def stop (array):\n",
        "  for i in array:\n",
        "    if i >= 4:\n",
        "      break #ループを中断\n",
        "    print(i)\n",
        "    #分岐終わり\n",
        "  #ループ終わり\n",
        "#関数終わり\n",
        "\n",
        "list = [1,2,3,4,5,1,2,3,4,5]\n",
        "stop(list)"
      ],
      "metadata": {
        "colab": {
          "base_uri": "https://localhost:8080/"
        },
        "id": "lOC4S3D24pRK",
        "outputId": "2c152b53-48a8-4158-93e3-40f55b5ef267"
      },
      "execution_count": 21,
      "outputs": [
        {
          "output_type": "stream",
          "name": "stdout",
          "text": [
            "1\n",
            "2\n",
            "3\n"
          ]
        }
      ]
    },
    {
      "cell_type": "code",
      "source": [],
      "metadata": {
        "id": "ZzNParFT57wW"
      },
      "execution_count": null,
      "outputs": []
    },
    {
      "cell_type": "markdown",
      "source": [
        "### 繰り返しをスキップしたいときは、continue命令"
      ],
      "metadata": {
        "id": "yHiyr9z36ZY-"
      }
    },
    {
      "cell_type": "code",
      "source": [
        "def skip(array):\n",
        "  for i in array:\n",
        "    if i >= 4 :\n",
        "      continue #以降のループ内処理をスキップする\n",
        "     #分岐終わり\n",
        "    print(i)\n",
        "  #繰り返し終わり\n",
        " #関数終わり  \n",
        "list = [1,2,3,4,5,1,2,3,4,5]\n",
        "skip(list)"
      ],
      "metadata": {
        "colab": {
          "base_uri": "https://localhost:8080/"
        },
        "id": "CYogqBxI6i0m",
        "outputId": "a310deed-1367-49d9-f35b-eece60d021fa"
      },
      "execution_count": 24,
      "outputs": [
        {
          "output_type": "stream",
          "name": "stdout",
          "text": [
            "1\n",
            "2\n",
            "3\n",
            "1\n",
            "2\n",
            "3\n"
          ]
        }
      ]
    },
    {
      "cell_type": "code",
      "source": [],
      "metadata": {
        "id": "e57wyvwJ7S0v"
      },
      "execution_count": null,
      "outputs": []
    }
  ]
}