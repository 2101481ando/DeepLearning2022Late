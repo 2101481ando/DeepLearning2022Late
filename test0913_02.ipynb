{
  "nbformat": 4,
  "nbformat_minor": 0,
  "metadata": {
    "colab": {
      "provenance": [],
      "authorship_tag": "ABX9TyMFHpCPIgabfDFxH6pVzi0I",
      "include_colab_link": true
    },
    "kernelspec": {
      "name": "python3",
      "display_name": "Python 3"
    },
    "language_info": {
      "name": "python"
    }
  },
  "cells": [
    {
      "cell_type": "markdown",
      "metadata": {
        "id": "view-in-github",
        "colab_type": "text"
      },
      "source": [
        "<a href=\"https://colab.research.google.com/github/2101481ando/DeepLearning2022Late/blob/main/test0913_02.ipynb\" target=\"_parent\"><img src=\"https://colab.research.google.com/assets/colab-badge.svg\" alt=\"Open In Colab\"/></a>"
      ]
    },
    {
      "cell_type": "markdown",
      "source": [
        "# 辞書型(dictionary)\n",
        "キーと値のペアで管理する"
      ],
      "metadata": {
        "id": "vsXFvAsNy5XY"
      }
    },
    {
      "cell_type": "markdown",
      "source": [
        "## 辞書型の定義文"
      ],
      "metadata": {
        "id": "5dJCQ7hjzTSn"
      }
    },
    {
      "cell_type": "code",
      "source": [
        "# 辞書s型のデータを作って変数dictに代入\n",
        "# {キーワード：値,''キーワード:値}　でデータを管理\n",
        "dict = {'アップル':1, 'ペン':2, 'パイナップル':3}\n",
        "print(dict)\n",
        "# 値を利用するときは、キーワードで指定\n",
        "print(dict['ペン'])\n"
      ],
      "metadata": {
        "colab": {
          "base_uri": "https://localhost:8080/"
        },
        "id": "hLt4duADzXvu",
        "outputId": "9cb79b6a-4304-477b-b52d-3cab3a79510e"
      },
      "execution_count": null,
      "outputs": [
        {
          "output_type": "stream",
          "name": "stdout",
          "text": [
            "{'アップル': 1, 'ペン': 2, 'パイナップル': 3}\n",
            "2\n"
          ]
        }
      ]
    },
    {
      "cell_type": "markdown",
      "source": [
        "## 辞書型のキーワード一覧、値一覧を取得する"
      ],
      "metadata": {
        "id": "ZEYg_-gd1rLb"
      }
    },
    {
      "cell_type": "code",
      "source": [
        "print(dict)\n",
        "# dictに入っているキーの一覧\n",
        "print(dict.keys())\n",
        "# dictに入っている値の一覧\n",
        "print(dict.values())"
      ],
      "metadata": {
        "colab": {
          "base_uri": "https://localhost:8080/"
        },
        "id": "sUQgiCEG11gz",
        "outputId": "1071c253-9e64-415a-aa4e-071c3ae593b2"
      },
      "execution_count": null,
      "outputs": [
        {
          "output_type": "stream",
          "name": "stdout",
          "text": [
            "{'アップル': 1, 'ペン': 2, 'パイナップル': 3}\n",
            "dict_keys(['アップル', 'ペン', 'パイナップル'])\n",
            "dict_values([1, 2, 3])\n"
          ]
        }
      ]
    },
    {
      "cell_type": "markdown",
      "source": [
        "## 辞書型の追加・削除・更新"
      ],
      "metadata": {
        "id": "aOD31srz0-C8"
      }
    },
    {
      "cell_type": "code",
      "source": [
        "print(dict)\n",
        "# dictにバナナというキーワードで値5を追加\n",
        "# print(dict.keys())\n",
        "dict['バナナ'] = 5\n",
        "print(dict)\n",
        "# キーワードがすでにあったら、そのキーワードの値を更新\n",
        "dict['バナナ'] = 100\n",
        "print(dict)\n",
        "# キーワードで指定したペアを削除\n",
        "dict.pop('バナナ')\n",
        "print(dict)"
      ],
      "metadata": {
        "colab": {
          "base_uri": "https://localhost:8080/"
        },
        "id": "C_5wkg4K0QQp",
        "outputId": "c85089f6-9fb1-4a40-a982-0f0cf4cd7398"
      },
      "execution_count": null,
      "outputs": [
        {
          "output_type": "stream",
          "name": "stdout",
          "text": [
            "{'アップル': 1, 'ペン': 2, 'パイナップル': 3, 'バナナ': 100}\n",
            "{'アップル': 1, 'ペン': 2, 'パイナップル': 3, 'バナナ': 5}\n",
            "{'アップル': 1, 'ペン': 2, 'パイナップル': 3, 'バナナ': 100}\n",
            "{'アップル': 1, 'ペン': 2, 'パイナップル': 3}\n"
          ]
        }
      ]
    },
    {
      "cell_type": "markdown",
      "source": [
        "# 文字列の整形"
      ],
      "metadata": {
        "id": "N3kBL4BR4a5F"
      }
    },
    {
      "cell_type": "markdown",
      "source": [
        "## 文字列の連結と繰り返し"
      ],
      "metadata": {
        "id": "oOJs6Dbo4yg1"
      }
    },
    {
      "cell_type": "code",
      "source": [
        "# 文字列の連結方法①\n",
        "apple = 'アップル'\n",
        "pen = 'ペン'\n",
        "print(apple + pen) #プラス記号で連結\n",
        "# 文字列の連結方法② 文字列を連結する\n",
        "piko = [\"ペン\",\"パイナップル\",\"アップル\",\"ペン\"]\n",
        "# printメソッドで連結して表示　例： ,　で連結\n",
        "print( 'aaaa' .join(piko))\n",
        "# 回数を指定してメッセージを表示\n",
        "pon = 'ポン'\n",
        "print(pon *3)"
      ],
      "metadata": {
        "colab": {
          "base_uri": "https://localhost:8080/"
        },
        "id": "-_UelPax4eQr",
        "outputId": "b3b78040-b256-4a56-f10e-1278d4cef482"
      },
      "execution_count": null,
      "outputs": [
        {
          "output_type": "stream",
          "name": "stdout",
          "text": [
            "アップルペン\n",
            "ペンaaaaパイナップルaaaaアップルaaaaペン\n",
            "ポンポンポン\n"
          ]
        }
      ]
    },
    {
      "cell_type": "code",
      "source": [],
      "metadata": {
        "id": "OLwF03Gg5J5W"
      },
      "execution_count": null,
      "outputs": []
    },
    {
      "cell_type": "markdown",
      "source": [
        "## 【重要】文字列の整形（フォーマット）"
      ],
      "metadata": {
        "id": "F5O0PAWf633x"
      }
    },
    {
      "cell_type": "code",
      "source": [
        "# 定式で指定した形のメッセージにする\n",
        "print('{}{}:{}円')\n",
        "print('{}{}:{}円'.format('アップル','ペン',100))\n",
        "# スロットを値のインデックスで指定することもできる\n",
        "print('{}{}:{}円'.format(100,'アップル','ペン'))"
      ],
      "metadata": {
        "colab": {
          "base_uri": "https://localhost:8080/"
        },
        "id": "rJ-7KRsK6_nu",
        "outputId": "42186f48-51dd-410b-b4ad-76409b6826aa"
      },
      "execution_count": null,
      "outputs": [
        {
          "output_type": "stream",
          "name": "stdout",
          "text": [
            "{}{}:{}円\n",
            "アップルペン:100円\n",
            "100アップル:ペン円\n"
          ]
        }
      ]
    },
    {
      "cell_type": "markdown",
      "source": [
        "# コレクション演算\n",
        "リスト、タプル、つまり順番がある集合のことをシーケンスという。\n",
        "順番がない集合を集合型（セット）という\n",
        "上記2種類をまとめてコレクションという。\n",
        "コレクションは共通の演算が使える。\n",
        "len（長さ、量を取得）、max（最大値を取得）、min（最小値を取得）など"
      ],
      "metadata": {
        "id": "CjFy4m_ZW4Q3"
      }
    },
    {
      "cell_type": "code",
      "source": [
        "list = [1,1,2,3,4,5] #6つの要素\n",
        "tuple = (10,9,7,7,8,8,9 ) #7つの要素\n",
        "set = {1,-2,3,-4,5,-6,7,-8} #8つの要素\n",
        "# リストの長さ、最大値、最小値\n",
        "print(len(list),max(list),min(list))\n",
        "# タプルの長さ、最大値、最小値\n",
        "print(len(tuple),max(tuple),min(tuple))\n",
        "# セットの長さ、最大値、最小値\n",
        "print(len(set),max(set),min(set))\n"
      ],
      "metadata": {
        "id": "Dy4ShWz-8Cy3",
        "colab": {
          "base_uri": "https://localhost:8080/"
        },
        "outputId": "3c30fe04-ef65-4d66-af2a-a34c5f76bf3a"
      },
      "execution_count": 5,
      "outputs": [
        {
          "output_type": "stream",
          "name": "stdout",
          "text": [
            "6 5 1\n",
            "7 10 7\n",
            "8 7 -8\n"
          ]
        }
      ]
    },
    {
      "cell_type": "code",
      "source": [],
      "metadata": {
        "id": "SYSt93FoX4fT"
      },
      "execution_count": null,
      "outputs": []
    }
  ]
}