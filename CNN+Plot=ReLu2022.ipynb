{
  "nbformat": 4,
  "nbformat_minor": 0,
  "metadata": {
    "colab": {
      "provenance": [],
      "authorship_tag": "ABX9TyMEObgcB+qMD/uv60Isfdph",
      "include_colab_link": true
    },
    "kernelspec": {
      "name": "python3",
      "display_name": "Python 3"
    },
    "language_info": {
      "name": "python"
    }
  },
  "cells": [
    {
      "cell_type": "markdown",
      "metadata": {
        "id": "view-in-github",
        "colab_type": "text"
      },
      "source": [
        "<a href=\"https://colab.research.google.com/github/2101481ando/DeepLearning2022Late/blob/main/CNN%2BPlot%3DReLu2022.ipynb\" target=\"_parent\"><img src=\"https://colab.research.google.com/assets/colab-badge.svg\" alt=\"Open In Colab\"/></a>"
      ]
    },
    {
      "cell_type": "markdown",
      "source": [
        "# 畳み込み層（Cnv2D）の活性化関数（activation）を指定する"
      ],
      "metadata": {
        "id": "2gb3zjmC3Avd"
      }
    },
    {
      "cell_type": "markdown",
      "source": [
        "## 学習モデルのライブラリのimport"
      ],
      "metadata": {
        "id": "_BY1km_t3ZkJ"
      }
    },
    {
      "cell_type": "code",
      "execution_count": 2,
      "metadata": {
        "id": "S9kQ4lZk2tyZ"
      },
      "outputs": [],
      "source": [
        "from keras.models import Sequential, Model\n",
        "from keras.layers import Conv2D"
      ]
    },
    {
      "cell_type": "markdown",
      "source": [
        "## SVG画像表示ライブラリのimport"
      ],
      "metadata": {
        "id": "Oi7cn_qs38RZ"
      }
    },
    {
      "cell_type": "code",
      "source": [
        "from IPython.display import SVG\n",
        "from keras.utils.vis_utils import model_to_dot"
      ],
      "metadata": {
        "id": "iwE8uER6359M"
      },
      "execution_count": 3,
      "outputs": []
    },
    {
      "cell_type": "markdown",
      "source": [
        "## 学習モデルを生成"
      ],
      "metadata": {
        "id": "d8ZtA3EY4gBz"
      }
    },
    {
      "cell_type": "code",
      "source": [
        "model = Sequential()"
      ],
      "metadata": {
        "id": "O5Qbo9oK4XXA"
      },
      "execution_count": 4,
      "outputs": []
    },
    {
      "cell_type": "markdown",
      "source": [
        "## 畳み込み層（Conv2D）を追加\n",
        "### 活性化関数（Activation）をrelu関数（ランプ関数）で指定"
      ],
      "metadata": {
        "id": "uvsIKOLM4tZZ"
      }
    },
    {
      "cell_type": "code",
      "source": [
        "model.add(Conv2D(\n",
        "    filters=3,  # ３パターンのフィルター\n",
        "    kernel_size=(3,3), # 受容野（カーネル）の大きさ縦３、横３\n",
        "    input_shape=(6,6,1), # 入力画像の１個のサイズ縦６，横６\n",
        "    activation='relu', # 活性化関数（Activation）をrelu関数で指定\n",
        "    name='Conv2D_1'\n",
        "))"
      ],
      "metadata": {
        "id": "i9cXjvwg4lkk"
      },
      "execution_count": 7,
      "outputs": []
    },
    {
      "cell_type": "code",
      "source": [
        "SVG(model_to_dot(\n",
        "    model,\n",
        "    show_shapes=True,\n",
        "    dpi=None).create(prog='dot', format='svg'))"
      ],
      "metadata": {
        "colab": {
          "base_uri": "https://localhost:8080/",
          "height": 316
        },
        "id": "XEVMCsRF55qp",
        "outputId": "08814b65-db9c-4036-d5a5-850f1471b8d7"
      },
      "execution_count": 8,
      "outputs": [
        {
          "output_type": "execute_result",
          "data": {
            "text/plain": [
              "<IPython.core.display.SVG object>"
            ],
            "image/svg+xml": "<svg height=\"221pt\" viewBox=\"0.00 0.00 347.50 221.00\" width=\"348pt\" xmlns=\"http://www.w3.org/2000/svg\" xmlns:xlink=\"http://www.w3.org/1999/xlink\">\n<g class=\"graph\" id=\"graph0\" transform=\"scale(1 1) rotate(0) translate(4 217)\">\n<title>G</title>\n<polygon fill=\"#ffffff\" points=\"-4,4 -4,-217 343.5,-217 343.5,4 -4,4\" stroke=\"transparent\"/>\n<!-- dpi -->\n<g class=\"node\" id=\"node1\">\n<title>dpi</title>\n<ellipse cx=\"27\" cy=\"-189.5\" fill=\"none\" rx=\"27\" ry=\"18\" stroke=\"#000000\"/>\n<text fill=\"#000000\" font-family=\"Times,serif\" font-size=\"14.00\" text-anchor=\"middle\" x=\"27\" y=\"-185.8\">dpi</text>\n</g>\n<!-- 140575181371536 -->\n<g class=\"node\" id=\"node2\">\n<title>140575181371536</title>\n<polygon fill=\"none\" points=\"72.5,-166.5 72.5,-212.5 339.5,-212.5 339.5,-166.5 72.5,-166.5\" stroke=\"#000000\"/>\n<text fill=\"#000000\" font-family=\"Times,serif\" font-size=\"14.00\" text-anchor=\"middle\" x=\"121.5\" y=\"-197.3\">conv2d_input</text>\n<polyline fill=\"none\" points=\"72.5,-189.5 170.5,-189.5 \" stroke=\"#000000\"/>\n<text fill=\"#000000\" font-family=\"Times,serif\" font-size=\"14.00\" text-anchor=\"middle\" x=\"121.5\" y=\"-174.3\">InputLayer</text>\n<polyline fill=\"none\" points=\"170.5,-166.5 170.5,-212.5 \" stroke=\"#000000\"/>\n<text fill=\"#000000\" font-family=\"Times,serif\" font-size=\"14.00\" text-anchor=\"middle\" x=\"199.5\" y=\"-197.3\">input:</text>\n<polyline fill=\"none\" points=\"170.5,-189.5 228.5,-189.5 \" stroke=\"#000000\"/>\n<text fill=\"#000000\" font-family=\"Times,serif\" font-size=\"14.00\" text-anchor=\"middle\" x=\"199.5\" y=\"-174.3\">output:</text>\n<polyline fill=\"none\" points=\"228.5,-166.5 228.5,-212.5 \" stroke=\"#000000\"/>\n<text fill=\"#000000\" font-family=\"Times,serif\" font-size=\"14.00\" text-anchor=\"middle\" x=\"284\" y=\"-197.3\">[(None, 6, 6, 1)]</text>\n<polyline fill=\"none\" points=\"228.5,-189.5 339.5,-189.5 \" stroke=\"#000000\"/>\n<text fill=\"#000000\" font-family=\"Times,serif\" font-size=\"14.00\" text-anchor=\"middle\" x=\"284\" y=\"-174.3\">[(None, 6, 6, 1)]</text>\n</g>\n<!-- 140575029877456 -->\n<g class=\"node\" id=\"node3\">\n<title>140575029877456</title>\n<polygon fill=\"none\" points=\"92.5,-83.5 92.5,-129.5 319.5,-129.5 319.5,-83.5 92.5,-83.5\" stroke=\"#000000\"/>\n<text fill=\"#000000\" font-family=\"Times,serif\" font-size=\"14.00\" text-anchor=\"middle\" x=\"126\" y=\"-114.3\">conv2d</text>\n<polyline fill=\"none\" points=\"92.5,-106.5 159.5,-106.5 \" stroke=\"#000000\"/>\n<text fill=\"#000000\" font-family=\"Times,serif\" font-size=\"14.00\" text-anchor=\"middle\" x=\"126\" y=\"-91.3\">Conv2D</text>\n<polyline fill=\"none\" points=\"159.5,-83.5 159.5,-129.5 \" stroke=\"#000000\"/>\n<text fill=\"#000000\" font-family=\"Times,serif\" font-size=\"14.00\" text-anchor=\"middle\" x=\"188.5\" y=\"-114.3\">input:</text>\n<polyline fill=\"none\" points=\"159.5,-106.5 217.5,-106.5 \" stroke=\"#000000\"/>\n<text fill=\"#000000\" font-family=\"Times,serif\" font-size=\"14.00\" text-anchor=\"middle\" x=\"188.5\" y=\"-91.3\">output:</text>\n<polyline fill=\"none\" points=\"217.5,-83.5 217.5,-129.5 \" stroke=\"#000000\"/>\n<text fill=\"#000000\" font-family=\"Times,serif\" font-size=\"14.00\" text-anchor=\"middle\" x=\"268.5\" y=\"-114.3\">(None, 6, 6, 1)</text>\n<polyline fill=\"none\" points=\"217.5,-106.5 319.5,-106.5 \" stroke=\"#000000\"/>\n<text fill=\"#000000\" font-family=\"Times,serif\" font-size=\"14.00\" text-anchor=\"middle\" x=\"268.5\" y=\"-91.3\">(None, 4, 4, 3)</text>\n</g>\n<!-- 140575181371536&#45;&gt;140575029877456 -->\n<g class=\"edge\" id=\"edge1\">\n<title>140575181371536-&gt;140575029877456</title>\n<path d=\"M206,-166.3799C206,-158.1745 206,-148.7679 206,-139.8786\" fill=\"none\" stroke=\"#000000\"/>\n<polygon fill=\"#000000\" points=\"209.5001,-139.784 206,-129.784 202.5001,-139.784 209.5001,-139.784\" stroke=\"#000000\"/>\n</g>\n<!-- 140575028850576 -->\n<g class=\"node\" id=\"node4\">\n<title>140575028850576</title>\n<polygon fill=\"none\" points=\"85,-.5 85,-46.5 327,-46.5 327,-.5 85,-.5\" stroke=\"#000000\"/>\n<text fill=\"#000000\" font-family=\"Times,serif\" font-size=\"14.00\" text-anchor=\"middle\" x=\"126\" y=\"-31.3\">Conv2D_1</text>\n<polyline fill=\"none\" points=\"85,-23.5 167,-23.5 \" stroke=\"#000000\"/>\n<text fill=\"#000000\" font-family=\"Times,serif\" font-size=\"14.00\" text-anchor=\"middle\" x=\"126\" y=\"-8.3\">Conv2D</text>\n<polyline fill=\"none\" points=\"167,-.5 167,-46.5 \" stroke=\"#000000\"/>\n<text fill=\"#000000\" font-family=\"Times,serif\" font-size=\"14.00\" text-anchor=\"middle\" x=\"196\" y=\"-31.3\">input:</text>\n<polyline fill=\"none\" points=\"167,-23.5 225,-23.5 \" stroke=\"#000000\"/>\n<text fill=\"#000000\" font-family=\"Times,serif\" font-size=\"14.00\" text-anchor=\"middle\" x=\"196\" y=\"-8.3\">output:</text>\n<polyline fill=\"none\" points=\"225,-.5 225,-46.5 \" stroke=\"#000000\"/>\n<text fill=\"#000000\" font-family=\"Times,serif\" font-size=\"14.00\" text-anchor=\"middle\" x=\"276\" y=\"-31.3\">(None, 4, 4, 3)</text>\n<polyline fill=\"none\" points=\"225,-23.5 327,-23.5 \" stroke=\"#000000\"/>\n<text fill=\"#000000\" font-family=\"Times,serif\" font-size=\"14.00\" text-anchor=\"middle\" x=\"276\" y=\"-8.3\">(None, 2, 2, 3)</text>\n</g>\n<!-- 140575029877456&#45;&gt;140575028850576 -->\n<g class=\"edge\" id=\"edge2\">\n<title>140575029877456-&gt;140575028850576</title>\n<path d=\"M206,-83.3799C206,-75.1745 206,-65.7679 206,-56.8786\" fill=\"none\" stroke=\"#000000\"/>\n<polygon fill=\"#000000\" points=\"209.5001,-56.784 206,-46.784 202.5001,-56.784 209.5001,-56.784\" stroke=\"#000000\"/>\n</g>\n</g>\n</svg>"
          },
          "metadata": {},
          "execution_count": 8
        }
      ]
    },
    {
      "cell_type": "code",
      "source": [],
      "metadata": {
        "id": "G02VTtUx8o0D"
      },
      "execution_count": null,
      "outputs": []
    }
  ]
}