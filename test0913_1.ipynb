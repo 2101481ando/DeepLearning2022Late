{
  "nbformat": 4,
  "nbformat_minor": 0,
  "metadata": {
    "colab": {
      "provenance": [],
      "authorship_tag": "ABX9TyNQh6kHndxSe9JUn6JpSRGR",
      "include_colab_link": true
    },
    "kernelspec": {
      "name": "python3",
      "display_name": "Python 3"
    },
    "language_info": {
      "name": "python"
    }
  },
  "cells": [
    {
      "cell_type": "markdown",
      "metadata": {
        "id": "view-in-github",
        "colab_type": "text"
      },
      "source": [
        "<a href=\"https://colab.research.google.com/github/2101481ando/DeepLearning2022Late/blob/main/test0913_1.ipynb\" target=\"_parent\"><img src=\"https://colab.research.google.com/assets/colab-badge.svg\" alt=\"Open In Colab\"/></a>"
      ]
    },
    {
      "cell_type": "markdown",
      "source": [],
      "metadata": {
        "id": "j_R7qEM7U4c0"
      }
    },
    {
      "cell_type": "markdown",
      "source": [
        "#リスト型とタプル型\n",
        "##リストとタプル"
      ],
      "metadata": {
        "id": "69boTvO-U7OV"
      }
    },
    {
      "cell_type": "code",
      "source": [
        "#リスト\n",
        "list = [\"アップル\",\"ペン\",\"ペン\",\"パイナップル\"]\n",
        "print(list)\n",
        "print(list[1] + list[2])"
      ],
      "metadata": {
        "colab": {
          "base_uri": "https://localhost:8080/"
        },
        "id": "1apt3Ab1VDIz",
        "outputId": "7a35fd54-0f13-4978-dbe8-a0d34d5abb49"
      },
      "execution_count": null,
      "outputs": [
        {
          "output_type": "stream",
          "name": "stdout",
          "text": [
            "['アップル', 'ペン', 'ペン', 'パイナップル']\n",
            "ペンペン\n"
          ]
        }
      ]
    },
    {
      "cell_type": "code",
      "source": [
        "#タプル\n",
        "tuple = (\"アップル\",\"ペン\",\"ペン\",\"パイナップル\")\n",
        "print(tuple[1]+tuple[2])"
      ],
      "metadata": {
        "colab": {
          "base_uri": "https://localhost:8080/"
        },
        "id": "Yba86RVZVwAl",
        "outputId": "8d1bad82-43c5-4f9d-eaad-a4241235a45d"
      },
      "execution_count": null,
      "outputs": [
        {
          "output_type": "stream",
          "name": "stdout",
          "text": [
            "ペンペン\n"
          ]
        }
      ]
    },
    {
      "cell_type": "markdown",
      "source": [
        "###構成を変更できるのはリスト\n",
        "###構成を変更できない（固定）はタプル"
      ],
      "metadata": {
        "id": "QSTEIJeFXG8E"
      }
    },
    {
      "cell_type": "code",
      "source": [
        "#リストの構成変更\n",
        "print(list)\n",
        "list.append(100) #文字列データのリストにあえて数値を追加\n",
        "print(list)\n",
        "del list[2] #リストの3番目を削除\n",
        "print(list)\n",
        "list[3]=\"ペン\" #数値100を\"ペン\"に更新\n",
        "print(list)\n",
        "list.insert(2,\"ペン\") #2番目の位置に\"ペン\"を挿入\n",
        "print(list)"
      ],
      "metadata": {
        "colab": {
          "base_uri": "https://localhost:8080/"
        },
        "id": "RqdRA3mHXQ1p",
        "outputId": "acb79640-da62-4256-d710-e1715ab4ea76"
      },
      "execution_count": null,
      "outputs": [
        {
          "output_type": "stream",
          "name": "stdout",
          "text": [
            "['アップル', 'ペン', 'ペン', 'パイナップル']\n",
            "['アップル', 'ペン', 'ペン', 'パイナップル', 100]\n",
            "['アップル', 'ペン', 'パイナップル', 100]\n",
            "['アップル', 'ペン', 'パイナップル', 'ペン']\n",
            "['アップル', 'ペン', 'ペン', 'パイナップル', 'ペン']\n"
          ]
        }
      ]
    },
    {
      "cell_type": "markdown",
      "source": [
        "#リストや他プルの長さの取得"
      ],
      "metadata": {
        "id": "li7HZn9obTAZ"
      }
    },
    {
      "cell_type": "code",
      "source": [
        "print(list)\n",
        "print(len(list)) #len()で長さを取得する\n"
      ],
      "metadata": {
        "colab": {
          "base_uri": "https://localhost:8080/"
        },
        "id": "0UCzZjNGbeCv",
        "outputId": "da14abd1-f442-416f-9c95-b37a8ab447b4"
      },
      "execution_count": null,
      "outputs": [
        {
          "output_type": "stream",
          "name": "stdout",
          "text": [
            "['アップル', 'ペン', 'ペン', 'パイナップル', 'ペン']\n",
            "5\n"
          ]
        }
      ]
    },
    {
      "cell_type": "code",
      "source": [],
      "metadata": {
        "id": "aeDRodObbpaQ"
      },
      "execution_count": null,
      "outputs": []
    },
    {
      "cell_type": "markdown",
      "source": [
        "##スライス\n",
        "###データを抽出する（データを一部分取り出す）"
      ],
      "metadata": {
        "id": "s_5wxRK5b-AJ"
      }
    },
    {
      "cell_type": "code",
      "source": [
        "print(list)\n",
        "print(list[1]) #何番目の要素の指定の仕方と同じ考え方\n",
        "print(list[1:3]) #1番目から3番目までの範囲を指定して抽出＝スライス\n",
        "print(list[1:]) #1番目から最後まで抽出（スライス）"
      ],
      "metadata": {
        "colab": {
          "base_uri": "https://localhost:8080/"
        },
        "id": "j9Q4T8gWcJrk",
        "outputId": "60ae8838-96b2-4700-9ac4-bb932697726d"
      },
      "execution_count": null,
      "outputs": [
        {
          "output_type": "stream",
          "name": "stdout",
          "text": [
            "['アップル', 'ペン', 'ペン', 'パイナップル', 'ペン']\n",
            "ペン\n",
            "['ペン', 'ペン']\n",
            "['ペン', 'ペン', 'パイナップル', 'ペン']\n"
          ]
        }
      ]
    },
    {
      "cell_type": "markdown",
      "source": [
        "#SET型（集合型）\n",
        "SET型は、順番を持たない。重複したデータも持たない"
      ],
      "metadata": {
        "id": "hxQS7n86ekE6"
      }
    },
    {
      "cell_type": "code",
      "source": [
        "#uniqという名前のset型変数を作る　\n",
        "uniq = set([\"アップル\",\"ペン\",\"ペン\",\"パイナップル\"])\n",
        "print(uniq) #リストの時点では\"ペン\"が重複できていたが。set型になって重複が消えた"
      ],
      "metadata": {
        "colab": {
          "base_uri": "https://localhost:8080/"
        },
        "id": "W9weUWe-fUeo",
        "outputId": "12d8fdf1-3cf1-4ffc-9d85-de07888e65c6"
      },
      "execution_count": null,
      "outputs": [
        {
          "output_type": "stream",
          "name": "stdout",
          "text": [
            "{'パイナップル', 'ペン', 'アップル'}\n"
          ]
        }
      ]
    },
    {
      "cell_type": "markdown",
      "source": [
        "#集合型の追加変更削除"
      ],
      "metadata": {
        "id": "3k3Zkk__hRky"
      }
    },
    {
      "cell_type": "code",
      "source": [
        "print(uniq)\n",
        "uniq.add(\"バナナ\") #追加\n",
        "uniq.remove(\"ペン\") #削除\n",
        "print(uniq)"
      ],
      "metadata": {
        "colab": {
          "base_uri": "https://localhost:8080/"
        },
        "id": "EpKNnQpuftpl",
        "outputId": "946f1ef4-12fe-4d9d-96cc-722a413f72b9"
      },
      "execution_count": null,
      "outputs": [
        {
          "output_type": "stream",
          "name": "stdout",
          "text": [
            "{'パイナップル', 'ペン', 'アップル'}\n",
            "{'バナナ', 'パイナップル', 'アップル'}\n"
          ]
        }
      ]
    },
    {
      "cell_type": "code",
      "source": [],
      "metadata": {
        "id": "HQRMydfYhNlP"
      },
      "execution_count": null,
      "outputs": []
    },
    {
      "cell_type": "markdown",
      "source": [
        "####集合演算\n",
        "包括、積、和、差分"
      ],
      "metadata": {
        "id": "c1p4dkQwiecb"
      }
    },
    {
      "cell_type": "code",
      "source": [
        "#uniqの値を再定義\n",
        "uniq = set([\"アップル\",\"ペン\",\"ペン\",\"パイナップル\"])\n",
        "a = set([\"アップル\",\"ペン\"])\n",
        "b = set([\"ペン\",\"パイナップル\"])\n",
        "print(uniq)\n",
        "print(a)\n",
        "print(b)\n",
        "#集合Aは集合uniqのsubset（部分集合）である？＝包括関係\n",
        "a.issubset(uniq)\n",
        "#データ\"ペン\"は集合aの中にある？\n",
        "\"ペン\" in a"
      ],
      "metadata": {
        "colab": {
          "base_uri": "https://localhost:8080/"
        },
        "id": "pIQ1AJMVhWR_",
        "outputId": "a490069f-8355-4d96-bce8-6b18e99c6111"
      },
      "execution_count": null,
      "outputs": [
        {
          "output_type": "stream",
          "name": "stdout",
          "text": [
            "{'パイナップル', 'ペン', 'アップル'}\n",
            "{'ペン', 'アップル'}\n",
            "{'パイナップル', 'ペン'}\n"
          ]
        },
        {
          "output_type": "execute_result",
          "data": {
            "text/plain": [
              "True"
            ]
          },
          "metadata": {},
          "execution_count": 19
        }
      ]
    },
    {
      "cell_type": "code",
      "source": [
        "#ある集合と別の集合の共通部分の要素（intersection)\n",
        "#集合aと集合bの共通集合\n",
        "print(a)\n",
        "print(b)\n",
        "print(a.intersection(b)) #集合aのデータで集合bに共通のもの　；積\n",
        "#集合aと集合bの結合　：　和集合（setなので重複は削除される）\n",
        "print(a.union(b)) #集合aと集合bの集まり\n",
        "#集合aと集合bの差集合（aのみに含まれる集合）\n",
        "a.difference(b) #aからbを取り除いた残り（差分：difference)\n"
      ],
      "metadata": {
        "colab": {
          "base_uri": "https://localhost:8080/"
        },
        "id": "qhFTI7qmqYYT",
        "outputId": "00633a3e-f744-493e-da32-620ebaca9894"
      },
      "execution_count": null,
      "outputs": [
        {
          "output_type": "stream",
          "name": "stdout",
          "text": [
            "{'ペン', 'アップル'}\n",
            "{'パイナップル', 'ペン'}\n",
            "{'ペン'}\n",
            "{'パイナップル', 'ペン', 'アップル'}\n"
          ]
        },
        {
          "output_type": "execute_result",
          "data": {
            "text/plain": [
              "{'アップル'}"
            ]
          },
          "metadata": {},
          "execution_count": 22
        }
      ]
    },
    {
      "cell_type": "code",
      "source": [],
      "metadata": {
        "id": "nBFF3Y8friWC"
      },
      "execution_count": null,
      "outputs": []
    }
  ]
}